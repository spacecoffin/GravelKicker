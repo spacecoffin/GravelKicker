{
 "cells": [
  {
   "cell_type": "code",
   "execution_count": 2,
   "metadata": {
    "collapsed": true
   },
   "outputs": [],
   "source": [
    "import sys\n",
    "sys.path.append('/Users/spacecoffin/Development')\n",
    "\n",
    "import GravelKicker as gk\n",
    "import os\n",
    "import pandas as pd\n",
    "\n",
    "from datetime import datetime\n",
    "from supriya.tools import nonrealtimetools"
   ]
  },
  {
   "cell_type": "code",
   "execution_count": 3,
   "metadata": {
    "collapsed": true
   },
   "outputs": [],
   "source": [
    "this_dir = '/Users/spacecoffin/Development/GravelKicker/__gen_files'"
   ]
  },
  {
   "cell_type": "markdown",
   "metadata": {},
   "source": [
    "# Batch processing\n",
    "\n",
    "1. Decide on a size limit for aiff files (882kb/10s file)\n",
    "2. Generate that much files\n",
    "3. Process those files and append results to DataFrame\n",
    "4. Remove those files"
   ]
  },
  {
   "cell_type": "code",
   "execution_count": 1,
   "metadata": {
    "collapsed": true
   },
   "outputs": [],
   "source": [
    "import hurry.filesize"
   ]
  },
  {
   "cell_type": "code",
   "execution_count": 38,
   "metadata": {
    "collapsed": false
   },
   "outputs": [
    {
     "data": {
      "text/plain": [
       "'882 KB'"
      ]
     },
     "execution_count": 38,
     "metadata": {},
     "output_type": "execute_result"
    }
   ],
   "source": [
    "hurry.filesize.size(903168, system=hurry.filesize.alternative)"
   ]
  },
  {
   "cell_type": "code",
   "execution_count": 40,
   "metadata": {
    "collapsed": false
   },
   "outputs": [
    {
     "data": {
      "text/plain": [
       "'882K'"
      ]
     },
     "execution_count": 40,
     "metadata": {},
     "output_type": "execute_result"
    }
   ],
   "source": [
    "hurry.filesize.size(882102, system=hurry.filesize.si)"
   ]
  },
  {
   "cell_type": "code",
   "execution_count": 7,
   "metadata": {
    "collapsed": false
   },
   "outputs": [
    {
     "data": {
      "text/plain": [
       "'882K'"
      ]
     },
     "execution_count": 7,
     "metadata": {},
     "output_type": "execute_result"
    }
   ],
   "source": [
    "hurry.filesize.size(882000, system=hurry.filesize.si)"
   ]
  },
  {
   "cell_type": "code",
   "execution_count": 43,
   "metadata": {
    "collapsed": false
   },
   "outputs": [
    {
     "data": {
      "text/plain": [
       "'1 GB'"
      ]
     },
     "execution_count": 43,
     "metadata": {},
     "output_type": "execute_result"
    }
   ],
   "source": [
    "hurry.filesize.size(1073741824, system=hurry.filesize.alternative)"
   ]
  },
  {
   "cell_type": "code",
   "execution_count": 42,
   "metadata": {
    "collapsed": false
   },
   "outputs": [
    {
     "data": {
      "text/plain": [
       "'1G'"
      ]
     },
     "execution_count": 42,
     "metadata": {},
     "output_type": "execute_result"
    }
   ],
   "source": [
    "hurry.filesize.size(1073741824, system=hurry.filesize.si)"
   ]
  },
  {
   "cell_type": "code",
   "execution_count": 44,
   "metadata": {
    "collapsed": false
   },
   "outputs": [
    {
     "data": {
      "text/plain": [
       "1217.2535874536052"
      ]
     },
     "execution_count": 44,
     "metadata": {},
     "output_type": "execute_result"
    }
   ],
   "source": [
    "1073741824 / 882102"
   ]
  },
  {
   "cell_type": "markdown",
   "metadata": {},
   "source": [
    "# Loading"
   ]
  },
  {
   "cell_type": "code",
   "execution_count": 7,
   "metadata": {
    "collapsed": false
   },
   "outputs": [],
   "source": [
    "dir_list = os.listdir(path=this_dir)\n",
    "\n",
    "if \"df.p\" in dir_list:\n",
    "    _pickle_path = os.path.join(this_dir, \"df.p\")\n",
    "    _old_df = pd.read_pickle(_pickle_path)\n",
    "    "
   ]
  },
  {
   "cell_type": "code",
   "execution_count": 9,
   "metadata": {
    "collapsed": false
   },
   "outputs": [
    {
     "data": {
      "text/plain": [
       "0     62d1647a3f349aa6f232ea9001fa8d93\n",
       "1     9f4d97cc9b5cfa0baf92601facffacb9\n",
       "2     21e57a94b2c037258bcf1fad573fe2fb\n",
       "3     6ba325edba9f428c62d46a952d10e776\n",
       "4     1abd6ebc0e59bb9e56e7b153121db105\n",
       "5     fed6d9c28a803eec577e8484f55fd46a\n",
       "6     755812ae03e22cf0d4b1429cdbf0d7d4\n",
       "7     f7dd58a8829ffda9c60da001639493ae\n",
       "8     8aae91b8dd88f68b073b7e327b93449c\n",
       "9     4c3a940fe9f5fa062791891292b3bd14\n",
       "10    1809ca586e295df92d949a37dbada5b2\n",
       "11    005c1e45724d2af61b84def5b441bec9\n",
       "12    a2f46fa9db3c589db004ed4b4856adf4\n",
       "13    989e9f197eb34b3a92503f468becafb2\n",
       "14    bcecc01fb3503dc246dcbe36544d9768\n",
       "15    0785bb918fa5f111a51b46bb098ef022\n",
       "16    9243eb9b68203c383d283a48728e2d11\n",
       "17    cb1a6248f10147bf29ed65969c41d516\n",
       "18    014e14b31011d8477cd2c2a4963553d5\n",
       "19    12aea483698ea62932324887b9067444\n",
       "Name: hash, dtype: object"
      ]
     },
     "execution_count": 9,
     "metadata": {},
     "output_type": "execute_result"
    }
   ],
   "source": [
    "_old_df[\"hash\"]"
   ]
  },
  {
   "cell_type": "code",
   "execution_count": 11,
   "metadata": {
    "collapsed": false
   },
   "outputs": [
    {
     "data": {
      "text/plain": [
       "adparam         float64\n",
       "ampscale        float64\n",
       "ddparam         float64\n",
       "durscale        float64\n",
       "ampdist         float64\n",
       "durdist         float64\n",
       "knum            float64\n",
       "minfrequency    float64\n",
       "maxfrequency    float64\n",
       "init_cps        float64\n",
       "hash             object\n",
       "dtype: object"
      ]
     },
     "execution_count": 11,
     "metadata": {},
     "output_type": "execute_result"
    }
   ],
   "source": [
    "_old_df.dtypes"
   ]
  },
  {
   "cell_type": "code",
   "execution_count": 15,
   "metadata": {
    "collapsed": false
   },
   "outputs": [
    {
     "data": {
      "text/html": [
       "<div>\n",
       "<table border=\"1\" class=\"dataframe\">\n",
       "  <thead>\n",
       "    <tr style=\"text-align: right;\">\n",
       "      <th></th>\n",
       "      <th>adparam</th>\n",
       "      <th>ampscale</th>\n",
       "      <th>ddparam</th>\n",
       "      <th>durscale</th>\n",
       "      <th>ampdist</th>\n",
       "      <th>durdist</th>\n",
       "      <th>knum</th>\n",
       "      <th>minfrequency</th>\n",
       "      <th>maxfrequency</th>\n",
       "      <th>init_cps</th>\n",
       "      <th>hash</th>\n",
       "    </tr>\n",
       "  </thead>\n",
       "  <tbody>\n",
       "    <tr>\n",
       "      <th>11</th>\n",
       "      <td>0.174762</td>\n",
       "      <td>0.221599</td>\n",
       "      <td>0.073717</td>\n",
       "      <td>0.397338</td>\n",
       "      <td>5.0</td>\n",
       "      <td>3.0</td>\n",
       "      <td>13.0</td>\n",
       "      <td>46.249303</td>\n",
       "      <td>51.913087</td>\n",
       "      <td>16.0</td>\n",
       "      <td>005c1e45724d2af61b84def5b441bec9</td>\n",
       "    </tr>\n",
       "    <tr>\n",
       "      <th>18</th>\n",
       "      <td>0.524953</td>\n",
       "      <td>0.459376</td>\n",
       "      <td>0.614547</td>\n",
       "      <td>0.765223</td>\n",
       "      <td>3.0</td>\n",
       "      <td>1.0</td>\n",
       "      <td>14.0</td>\n",
       "      <td>783.990872</td>\n",
       "      <td>1661.218790</td>\n",
       "      <td>16.0</td>\n",
       "      <td>014e14b31011d8477cd2c2a4963553d5</td>\n",
       "    </tr>\n",
       "    <tr>\n",
       "      <th>15</th>\n",
       "      <td>0.743336</td>\n",
       "      <td>0.924925</td>\n",
       "      <td>0.801979</td>\n",
       "      <td>0.144148</td>\n",
       "      <td>0.0</td>\n",
       "      <td>5.0</td>\n",
       "      <td>15.0</td>\n",
       "      <td>9.722718</td>\n",
       "      <td>466.163762</td>\n",
       "      <td>16.0</td>\n",
       "      <td>0785bb918fa5f111a51b46bb098ef022</td>\n",
       "    </tr>\n",
       "    <tr>\n",
       "      <th>19</th>\n",
       "      <td>0.435284</td>\n",
       "      <td>0.421904</td>\n",
       "      <td>0.600644</td>\n",
       "      <td>0.241138</td>\n",
       "      <td>5.0</td>\n",
       "      <td>3.0</td>\n",
       "      <td>13.0</td>\n",
       "      <td>261.625565</td>\n",
       "      <td>554.365262</td>\n",
       "      <td>16.0</td>\n",
       "      <td>12aea483698ea62932324887b9067444</td>\n",
       "    </tr>\n",
       "    <tr>\n",
       "      <th>10</th>\n",
       "      <td>0.229079</td>\n",
       "      <td>0.403972</td>\n",
       "      <td>0.678791</td>\n",
       "      <td>0.254824</td>\n",
       "      <td>0.0</td>\n",
       "      <td>0.0</td>\n",
       "      <td>11.0</td>\n",
       "      <td>20.601722</td>\n",
       "      <td>184.997211</td>\n",
       "      <td>16.0</td>\n",
       "      <td>1809ca586e295df92d949a37dbada5b2</td>\n",
       "    </tr>\n",
       "    <tr>\n",
       "      <th>4</th>\n",
       "      <td>0.695884</td>\n",
       "      <td>0.897465</td>\n",
       "      <td>0.222027</td>\n",
       "      <td>0.000964</td>\n",
       "      <td>1.0</td>\n",
       "      <td>1.0</td>\n",
       "      <td>7.0</td>\n",
       "      <td>554.365262</td>\n",
       "      <td>659.255114</td>\n",
       "      <td>16.0</td>\n",
       "      <td>1abd6ebc0e59bb9e56e7b153121db105</td>\n",
       "    </tr>\n",
       "    <tr>\n",
       "      <th>2</th>\n",
       "      <td>0.264392</td>\n",
       "      <td>0.046060</td>\n",
       "      <td>0.569097</td>\n",
       "      <td>0.639831</td>\n",
       "      <td>5.0</td>\n",
       "      <td>3.0</td>\n",
       "      <td>10.0</td>\n",
       "      <td>155.563492</td>\n",
       "      <td>554.365262</td>\n",
       "      <td>16.0</td>\n",
       "      <td>21e57a94b2c037258bcf1fad573fe2fb</td>\n",
       "    </tr>\n",
       "    <tr>\n",
       "      <th>9</th>\n",
       "      <td>0.399641</td>\n",
       "      <td>0.051536</td>\n",
       "      <td>0.632386</td>\n",
       "      <td>0.369661</td>\n",
       "      <td>3.0</td>\n",
       "      <td>0.0</td>\n",
       "      <td>10.0</td>\n",
       "      <td>38.890873</td>\n",
       "      <td>155.563492</td>\n",
       "      <td>16.0</td>\n",
       "      <td>4c3a940fe9f5fa062791891292b3bd14</td>\n",
       "    </tr>\n",
       "    <tr>\n",
       "      <th>0</th>\n",
       "      <td>0.769618</td>\n",
       "      <td>0.196847</td>\n",
       "      <td>0.688058</td>\n",
       "      <td>0.069917</td>\n",
       "      <td>5.0</td>\n",
       "      <td>2.0</td>\n",
       "      <td>12.0</td>\n",
       "      <td>10.300861</td>\n",
       "      <td>123.470825</td>\n",
       "      <td>16.0</td>\n",
       "      <td>62d1647a3f349aa6f232ea9001fa8d93</td>\n",
       "    </tr>\n",
       "    <tr>\n",
       "      <th>3</th>\n",
       "      <td>0.166905</td>\n",
       "      <td>0.426392</td>\n",
       "      <td>0.067223</td>\n",
       "      <td>0.950235</td>\n",
       "      <td>3.0</td>\n",
       "      <td>4.0</td>\n",
       "      <td>10.0</td>\n",
       "      <td>2637.020455</td>\n",
       "      <td>2793.825851</td>\n",
       "      <td>16.0</td>\n",
       "      <td>6ba325edba9f428c62d46a952d10e776</td>\n",
       "    </tr>\n",
       "    <tr>\n",
       "      <th>6</th>\n",
       "      <td>0.211677</td>\n",
       "      <td>0.716012</td>\n",
       "      <td>0.776628</td>\n",
       "      <td>0.249939</td>\n",
       "      <td>2.0</td>\n",
       "      <td>0.0</td>\n",
       "      <td>10.0</td>\n",
       "      <td>440.000000</td>\n",
       "      <td>3951.066410</td>\n",
       "      <td>16.0</td>\n",
       "      <td>755812ae03e22cf0d4b1429cdbf0d7d4</td>\n",
       "    </tr>\n",
       "    <tr>\n",
       "      <th>8</th>\n",
       "      <td>0.999191</td>\n",
       "      <td>0.380020</td>\n",
       "      <td>0.203953</td>\n",
       "      <td>0.248066</td>\n",
       "      <td>1.0</td>\n",
       "      <td>3.0</td>\n",
       "      <td>11.0</td>\n",
       "      <td>880.000000</td>\n",
       "      <td>3729.310092</td>\n",
       "      <td>16.0</td>\n",
       "      <td>8aae91b8dd88f68b073b7e327b93449c</td>\n",
       "    </tr>\n",
       "    <tr>\n",
       "      <th>16</th>\n",
       "      <td>0.406652</td>\n",
       "      <td>0.434271</td>\n",
       "      <td>0.017588</td>\n",
       "      <td>0.599756</td>\n",
       "      <td>1.0</td>\n",
       "      <td>3.0</td>\n",
       "      <td>12.0</td>\n",
       "      <td>1396.912926</td>\n",
       "      <td>4186.009045</td>\n",
       "      <td>16.0</td>\n",
       "      <td>9243eb9b68203c383d283a48728e2d11</td>\n",
       "    </tr>\n",
       "    <tr>\n",
       "      <th>13</th>\n",
       "      <td>0.637114</td>\n",
       "      <td>0.941036</td>\n",
       "      <td>0.800288</td>\n",
       "      <td>0.038992</td>\n",
       "      <td>4.0</td>\n",
       "      <td>3.0</td>\n",
       "      <td>12.0</td>\n",
       "      <td>69.295658</td>\n",
       "      <td>195.997718</td>\n",
       "      <td>16.0</td>\n",
       "      <td>989e9f197eb34b3a92503f468becafb2</td>\n",
       "    </tr>\n",
       "    <tr>\n",
       "      <th>1</th>\n",
       "      <td>0.652324</td>\n",
       "      <td>0.047935</td>\n",
       "      <td>0.618170</td>\n",
       "      <td>0.248597</td>\n",
       "      <td>1.0</td>\n",
       "      <td>0.0</td>\n",
       "      <td>12.0</td>\n",
       "      <td>880.000000</td>\n",
       "      <td>1046.502261</td>\n",
       "      <td>16.0</td>\n",
       "      <td>9f4d97cc9b5cfa0baf92601facffacb9</td>\n",
       "    </tr>\n",
       "    <tr>\n",
       "      <th>12</th>\n",
       "      <td>0.566293</td>\n",
       "      <td>0.635214</td>\n",
       "      <td>0.189112</td>\n",
       "      <td>0.301430</td>\n",
       "      <td>5.0</td>\n",
       "      <td>1.0</td>\n",
       "      <td>11.0</td>\n",
       "      <td>1760.000000</td>\n",
       "      <td>2959.955382</td>\n",
       "      <td>16.0</td>\n",
       "      <td>a2f46fa9db3c589db004ed4b4856adf4</td>\n",
       "    </tr>\n",
       "    <tr>\n",
       "      <th>14</th>\n",
       "      <td>0.048555</td>\n",
       "      <td>0.682584</td>\n",
       "      <td>0.721583</td>\n",
       "      <td>0.334873</td>\n",
       "      <td>4.0</td>\n",
       "      <td>1.0</td>\n",
       "      <td>15.0</td>\n",
       "      <td>233.081881</td>\n",
       "      <td>987.766603</td>\n",
       "      <td>16.0</td>\n",
       "      <td>bcecc01fb3503dc246dcbe36544d9768</td>\n",
       "    </tr>\n",
       "    <tr>\n",
       "      <th>17</th>\n",
       "      <td>0.127376</td>\n",
       "      <td>0.162602</td>\n",
       "      <td>0.285705</td>\n",
       "      <td>0.972035</td>\n",
       "      <td>4.0</td>\n",
       "      <td>3.0</td>\n",
       "      <td>14.0</td>\n",
       "      <td>103.826174</td>\n",
       "      <td>880.000000</td>\n",
       "      <td>16.0</td>\n",
       "      <td>cb1a6248f10147bf29ed65969c41d516</td>\n",
       "    </tr>\n",
       "    <tr>\n",
       "      <th>7</th>\n",
       "      <td>0.584381</td>\n",
       "      <td>0.581177</td>\n",
       "      <td>0.563843</td>\n",
       "      <td>0.343797</td>\n",
       "      <td>5.0</td>\n",
       "      <td>2.0</td>\n",
       "      <td>14.0</td>\n",
       "      <td>783.990872</td>\n",
       "      <td>1046.502261</td>\n",
       "      <td>16.0</td>\n",
       "      <td>f7dd58a8829ffda9c60da001639493ae</td>\n",
       "    </tr>\n",
       "    <tr>\n",
       "      <th>5</th>\n",
       "      <td>0.536318</td>\n",
       "      <td>0.878002</td>\n",
       "      <td>0.918937</td>\n",
       "      <td>0.308756</td>\n",
       "      <td>4.0</td>\n",
       "      <td>3.0</td>\n",
       "      <td>9.0</td>\n",
       "      <td>783.990872</td>\n",
       "      <td>1396.912926</td>\n",
       "      <td>16.0</td>\n",
       "      <td>fed6d9c28a803eec577e8484f55fd46a</td>\n",
       "    </tr>\n",
       "  </tbody>\n",
       "</table>\n",
       "</div>"
      ],
      "text/plain": [
       "     adparam  ampscale   ddparam  durscale  ampdist  durdist  knum  \\\n",
       "11  0.174762  0.221599  0.073717  0.397338      5.0      3.0  13.0   \n",
       "18  0.524953  0.459376  0.614547  0.765223      3.0      1.0  14.0   \n",
       "15  0.743336  0.924925  0.801979  0.144148      0.0      5.0  15.0   \n",
       "19  0.435284  0.421904  0.600644  0.241138      5.0      3.0  13.0   \n",
       "10  0.229079  0.403972  0.678791  0.254824      0.0      0.0  11.0   \n",
       "4   0.695884  0.897465  0.222027  0.000964      1.0      1.0   7.0   \n",
       "2   0.264392  0.046060  0.569097  0.639831      5.0      3.0  10.0   \n",
       "9   0.399641  0.051536  0.632386  0.369661      3.0      0.0  10.0   \n",
       "0   0.769618  0.196847  0.688058  0.069917      5.0      2.0  12.0   \n",
       "3   0.166905  0.426392  0.067223  0.950235      3.0      4.0  10.0   \n",
       "6   0.211677  0.716012  0.776628  0.249939      2.0      0.0  10.0   \n",
       "8   0.999191  0.380020  0.203953  0.248066      1.0      3.0  11.0   \n",
       "16  0.406652  0.434271  0.017588  0.599756      1.0      3.0  12.0   \n",
       "13  0.637114  0.941036  0.800288  0.038992      4.0      3.0  12.0   \n",
       "1   0.652324  0.047935  0.618170  0.248597      1.0      0.0  12.0   \n",
       "12  0.566293  0.635214  0.189112  0.301430      5.0      1.0  11.0   \n",
       "14  0.048555  0.682584  0.721583  0.334873      4.0      1.0  15.0   \n",
       "17  0.127376  0.162602  0.285705  0.972035      4.0      3.0  14.0   \n",
       "7   0.584381  0.581177  0.563843  0.343797      5.0      2.0  14.0   \n",
       "5   0.536318  0.878002  0.918937  0.308756      4.0      3.0   9.0   \n",
       "\n",
       "    minfrequency  maxfrequency  init_cps                              hash  \n",
       "11     46.249303     51.913087      16.0  005c1e45724d2af61b84def5b441bec9  \n",
       "18    783.990872   1661.218790      16.0  014e14b31011d8477cd2c2a4963553d5  \n",
       "15      9.722718    466.163762      16.0  0785bb918fa5f111a51b46bb098ef022  \n",
       "19    261.625565    554.365262      16.0  12aea483698ea62932324887b9067444  \n",
       "10     20.601722    184.997211      16.0  1809ca586e295df92d949a37dbada5b2  \n",
       "4     554.365262    659.255114      16.0  1abd6ebc0e59bb9e56e7b153121db105  \n",
       "2     155.563492    554.365262      16.0  21e57a94b2c037258bcf1fad573fe2fb  \n",
       "9      38.890873    155.563492      16.0  4c3a940fe9f5fa062791891292b3bd14  \n",
       "0      10.300861    123.470825      16.0  62d1647a3f349aa6f232ea9001fa8d93  \n",
       "3    2637.020455   2793.825851      16.0  6ba325edba9f428c62d46a952d10e776  \n",
       "6     440.000000   3951.066410      16.0  755812ae03e22cf0d4b1429cdbf0d7d4  \n",
       "8     880.000000   3729.310092      16.0  8aae91b8dd88f68b073b7e327b93449c  \n",
       "16   1396.912926   4186.009045      16.0  9243eb9b68203c383d283a48728e2d11  \n",
       "13     69.295658    195.997718      16.0  989e9f197eb34b3a92503f468becafb2  \n",
       "1     880.000000   1046.502261      16.0  9f4d97cc9b5cfa0baf92601facffacb9  \n",
       "12   1760.000000   2959.955382      16.0  a2f46fa9db3c589db004ed4b4856adf4  \n",
       "14    233.081881    987.766603      16.0  bcecc01fb3503dc246dcbe36544d9768  \n",
       "17    103.826174    880.000000      16.0  cb1a6248f10147bf29ed65969c41d516  \n",
       "7     783.990872   1046.502261      16.0  f7dd58a8829ffda9c60da001639493ae  \n",
       "5     783.990872   1396.912926      16.0  fed6d9c28a803eec577e8484f55fd46a  "
      ]
     },
     "execution_count": 15,
     "metadata": {},
     "output_type": "execute_result"
    }
   ],
   "source": [
    "pmtx = gk.generator.gendy1.gen_params(rows=20)\n",
    "df = gk.generator.gendy1.format_params(pmtx)\n",
    "df.sort_values([\"hash\"])"
   ]
  },
  {
   "cell_type": "code",
   "execution_count": 20,
   "metadata": {
    "collapsed": true
   },
   "outputs": [],
   "source": [
    "for i, row in df.iterrows():\n",
    "    \n",
    "    session = nonrealtimetools.Session()\n",
    "    \n",
    "    builder = gk.generator.gendy1.make_builder(row)\n",
    "    \n",
    "    out = gk.generator.gendy1.build_out(builder)\n",
    "    \n",
    "    synthdef = builder.build()\n",
    "    \n",
    "    with session.at(0):\n",
    "        synth_a = session.add_synth(duration=10, synthdef=synthdef)\n",
    "    \n",
    "    gk.util.render_session(session, this_dir, row[\"hash\"])"
   ]
  },
  {
   "cell_type": "code",
   "execution_count": 47,
   "metadata": {
    "collapsed": false
   },
   "outputs": [],
   "source": [
    "dt = datetime.now().strftime(\"%Y_%m_%d\") #_%H-%M-%S\")\n",
    "identifier = '{0}-len{1}'.format(dt, str(df.shape[0]))"
   ]
  },
  {
   "cell_type": "code",
   "execution_count": 53,
   "metadata": {
    "collapsed": false
   },
   "outputs": [],
   "source": [
    "df.to_pickle(\"{0}/df-{1}.p\".format(this_dir, dt))"
   ]
  },
  {
   "cell_type": "code",
   "execution_count": 54,
   "metadata": {
    "collapsed": true
   },
   "outputs": [],
   "source": [
    "df.to_pickle(\"{0}/df.p\".format(this_dir, dt))"
   ]
  },
  {
   "cell_type": "markdown",
   "metadata": {},
   "source": [
    "Next, we need to:\n",
    "\n",
    "1. extract features from each file\n",
    "2. join features with parameter df (index on hash?)\n",
    "3. get it into a regressor"
   ]
  },
  {
   "cell_type": "code",
   "execution_count": null,
   "metadata": {
    "collapsed": true
   },
   "outputs": [],
   "source": []
  },
  {
   "cell_type": "raw",
   "metadata": {},
   "source": [
    "\n",
    "\n",
    "def pickle_data(file_pickle, path):\n",
    "    \"\"\"Saves pickle file depending on object instance\"\"\"\n",
    "\n",
    "    if isinstance(file_pickle, pd.DataFrame):\n",
    "        file_pickle.to_pickle(path)\n",
    "\n",
    "    elif isinstance(file_pickle, pyspark.RDD):\n",
    "        file_pickle.saveAsPickleFile(path)\n",
    "\n",
    "    else:\n",
    "        with open(path, 'wb') as p_file:\n",
    "            pickle.dump(file_pickle, p_file)\n",
    "\n",
    "pickle_data(data_pandas, path='{0}/pandas-df-{1}.p'.format(dat_path, identifier))"
   ]
  }
 ],
 "metadata": {
  "kernelspec": {
   "display_name": "Python 3",
   "language": "python",
   "name": "python3"
  },
  "language_info": {
   "codemirror_mode": {
    "name": "ipython",
    "version": 3
   },
   "file_extension": ".py",
   "mimetype": "text/x-python",
   "name": "python",
   "nbconvert_exporter": "python",
   "pygments_lexer": "ipython3",
   "version": "3.5.2"
  }
 },
 "nbformat": 4,
 "nbformat_minor": 1
}
