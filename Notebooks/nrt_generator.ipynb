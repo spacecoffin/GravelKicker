{
 "cells": [
  {
   "cell_type": "markdown",
   "metadata": {},
   "source": [
    "http://supriya.mbrsi.org/api/tools/nonrealtimetools/Session.html#supriya.tools.nonrealtimetools.Session"
   ]
  },
  {
   "cell_type": "code",
   "execution_count": 80,
   "metadata": {
    "collapsed": true
   },
   "outputs": [],
   "source": [
    "import os\n",
    "import subprocess\n",
    "import numpy as np\n",
    "import pandas as pd\n",
    "from supriya.tools import nonrealtimetools\n",
    "from supriya.tools import soundfiletools\n",
    "from supriya.tools import synthdeftools\n",
    "from supriya.tools import ugentools\n",
    "\n",
    "import hashlib\n",
    "import math\n",
    "import matplotlib.pyplot as plt\n",
    "import scipy.special as sps\n",
    "from scipy import stats"
   ]
  },
  {
   "cell_type": "markdown",
   "metadata": {},
   "source": [
    "1. Param builder\n",
    "2. Data structure mapping osc/aiff file name to parameters\n",
    "3. "
   ]
  },
  {
   "cell_type": "code",
   "execution_count": 3,
   "metadata": {
    "collapsed": true
   },
   "outputs": [],
   "source": [
    "def mtof(d):\n",
    "    return 2.**((d-69.)/12.) * 440.\n",
    "\n",
    "def ftom(f):\n",
    "    return 69. + (12. * math.log2(f/440.))"
   ]
  },
  {
   "cell_type": "code",
   "execution_count": 172,
   "metadata": {
    "collapsed": false
   },
   "outputs": [],
   "source": [
    "def min_max_freq(size=1, lambda_=0.7):\n",
    "    def min_gen(a):\n",
    "        \"\"\"Generate a random int between 0 & a (inclusive) of a 1-D array\"\"\"\n",
    "        return np.random.randint(0, a+1, size=1)\n",
    "    \n",
    "    # Vectorize function so it can be applied to array\n",
    "    min_func = np.vectorize(min_gen)\n",
    "    \n",
    "    octave_range = stats.planck.rvs(lambda_, size=size)\n",
    "    note_range = np.random.randint(1, 13, size=size)\n",
    "    total_range = np.clip(octave_range, 0, 8)*12 + note_range\n",
    "    base_note = min_func(110-total_range)\n",
    "    \n",
    "    return np.append(mtof(base_note), mtof((base_note+total_range))).reshape(2, size).T"
   ]
  },
  {
   "cell_type": "code",
   "execution_count": 87,
   "metadata": {
    "collapsed": true
   },
   "outputs": [],
   "source": [
    "def gen_params(rows=1, lambda_=0.7, M=100, n=12, N=65):\n",
    "    \n",
    "    return np.concatenate([np.random.uniform(low=0.0001, high=1.0, size=4*rows).reshape(rows, 4),\n",
    "                           np.random.randint(6, size=2*rows).reshape(rows, 2),\n",
    "                           ((stats.hypergeom.rvs(M=M, n=n, N=N, size=1*rows))+4).reshape(rows, 1),\n",
    "                           min_max_freq(size=rows, lambda_=lambda_),\n",
    "                           (np.zeros(rows)+16).reshape(rows, 1)],\n",
    "                          axis=1)"
   ]
  },
  {
   "cell_type": "code",
   "execution_count": 160,
   "metadata": {
    "collapsed": true
   },
   "outputs": [],
   "source": [
    "def format_params(param_mtx):\n",
    "    \n",
    "    cols = ('adparam', 'ampscale', 'ddparam', 'durscale', 'ampdist', 'durdist', \n",
    "            'knum', 'minfrequency', 'maxfrequency', 'init_cps')\n",
    "    \n",
    "    _df = pd.DataFrame(param_mtx, columns=cols)\n",
    "    \n",
    "    _df[\"hash\"] = np.array([hashlib.md5(series.tostring()).hexdigest() for series in param_mtx])\n",
    "    \n",
    "    return _df"
   ]
  },
  {
   "cell_type": "code",
   "execution_count": 171,
   "metadata": {
    "collapsed": true
   },
   "outputs": [],
   "source": [
    "def make_builder(row):\n",
    "    \n",
    "    return synthdeftools.SynthDefBuilder(adparam=row[\"adparam\"],\n",
    "                                         ampdist=row[\"ampdist\"],\n",
    "                                         ampscale=row[\"ampscale\"],\n",
    "                                         ddparam=row[\"ddparam\"],\n",
    "                                         durdist=row[\"durdist\"],\n",
    "                                         durscale=row[\"durscale\"],\n",
    "                                         init_cps=row[\"init_cps\"],\n",
    "                                         knum=row[\"knum\"],\n",
    "                                         maxfrequency=row[\"maxfrequency\"],\n",
    "                                         minfrequency=row[\"minfrequency\"],\n",
    "                                        )"
   ]
  },
  {
   "cell_type": "code",
   "execution_count": 7,
   "metadata": {
    "collapsed": false
   },
   "outputs": [],
   "source": [
    "def make_out_dirs(path):\n",
    "    if os.path.exists(path):\n",
    "        of = os.path.join(path, \"osc_files\")\n",
    "        af = os.path.join(path, \"aif_files\")\n",
    "        os.makedirs(of, exist_ok=True)\n",
    "        os.makedirs(af, exist_ok=True)\n",
    "        return of, af\n",
    "    else:\n",
    "        return \"{} does not exist\".format(path)"
   ]
  },
  {
   "cell_type": "code",
   "execution_count": 8,
   "metadata": {
    "collapsed": true
   },
   "outputs": [],
   "source": [
    "def join_path_to_file(osc_p, aif_p, f):\n",
    "    osc_fp = os.path.join(osc_p, f) + \".osc\"\n",
    "    aif_fp = os.path.join(aif_p, f) + \".aiff\"\n",
    "    return osc_fp, aif_fp"
   ]
  },
  {
   "cell_type": "code",
   "execution_count": 9,
   "metadata": {
    "collapsed": true
   },
   "outputs": [],
   "source": [
    "def make_osc_file(session, fpath):\n",
    "    datagram = session.to_datagram()\n",
    "    with open(fpath, 'wb') as file_pointer:\n",
    "        file_pointer.write(datagram)"
   ]
  },
  {
   "cell_type": "code",
   "execution_count": 10,
   "metadata": {
    "collapsed": true
   },
   "outputs": [],
   "source": [
    "def make_cmd(osc_fp, aif_fp):\n",
    "    return \"scsynth -N {0} _ {1} 44100 AIFF int16 -o 1\".format(osc_fp, aif_fp)"
   ]
  },
  {
   "cell_type": "code",
   "execution_count": 11,
   "metadata": {
    "collapsed": true
   },
   "outputs": [],
   "source": [
    "def render_session(session, out_dir, fname):\n",
    "    osc_path, aif_path = make_out_dirs(out_dir)\n",
    "    osc_fpath, aif_fpath = join_path_to_file(osc_path, aif_path, fname)\n",
    "    make_osc_file(session, osc_fpath)\n",
    "    bashCommand = make_cmd(osc_fpath, aif_fpath)\n",
    "    process = subprocess.Popen(bashCommand.split(), stdout=subprocess.PIPE)\n",
    "    output, error = process.communicate()\n",
    "    return output, error"
   ]
  },
  {
   "cell_type": "code",
   "execution_count": 176,
   "metadata": {
    "collapsed": true
   },
   "outputs": [],
   "source": [
    "def build_out(builder):\n",
    "    \n",
    "    with builder:\n",
    "        return ugentools.Out.ar(\n",
    "            source=ugentools.Gendy1.ar(\n",
    "                adparam=builder['adparam'],\n",
    "                ampdist=builder['ampdist'],\n",
    "                ampscale=builder['ampscale'],\n",
    "                ddparam=builder['ddparam'],\n",
    "                durdist=builder['durdist'],\n",
    "                durscale=builder['durscale'],\n",
    "                init_cps=builder['init_cps'],\n",
    "                knum=builder['knum'],\n",
    "                maxfrequency=builder['maxfrequency'],\n",
    "                minfrequency=builder['minfrequency'],\n",
    "            )\n",
    "            )"
   ]
  },
  {
   "cell_type": "code",
   "execution_count": 173,
   "metadata": {
    "collapsed": true
   },
   "outputs": [],
   "source": [
    "pmtx = gen_params(rows=20)"
   ]
  },
  {
   "cell_type": "code",
   "execution_count": 174,
   "metadata": {
    "collapsed": false
   },
   "outputs": [],
   "source": [
    "df = format_params(pmtx)"
   ]
  },
  {
   "cell_type": "code",
   "execution_count": 186,
   "metadata": {
    "collapsed": false
   },
   "outputs": [
    {
     "data": {
      "text/html": [
       "<div>\n",
       "<table border=\"1\" class=\"dataframe\">\n",
       "  <thead>\n",
       "    <tr style=\"text-align: right;\">\n",
       "      <th></th>\n",
       "      <th>adparam</th>\n",
       "      <th>ampscale</th>\n",
       "      <th>ddparam</th>\n",
       "      <th>durscale</th>\n",
       "      <th>ampdist</th>\n",
       "      <th>durdist</th>\n",
       "      <th>knum</th>\n",
       "      <th>minfrequency</th>\n",
       "      <th>maxfrequency</th>\n",
       "      <th>init_cps</th>\n",
       "      <th>hash</th>\n",
       "    </tr>\n",
       "  </thead>\n",
       "  <tbody>\n",
       "    <tr>\n",
       "      <th>10</th>\n",
       "      <td>0.028068</td>\n",
       "      <td>0.995970</td>\n",
       "      <td>0.145464</td>\n",
       "      <td>0.363215</td>\n",
       "      <td>3.0</td>\n",
       "      <td>2.0</td>\n",
       "      <td>15.0</td>\n",
       "      <td>87.307058</td>\n",
       "      <td>103.826174</td>\n",
       "      <td>16.0</td>\n",
       "      <td>162a624b021a40f353a22168ea26c573</td>\n",
       "    </tr>\n",
       "    <tr>\n",
       "      <th>1</th>\n",
       "      <td>0.313963</td>\n",
       "      <td>0.105873</td>\n",
       "      <td>0.636145</td>\n",
       "      <td>0.472342</td>\n",
       "      <td>0.0</td>\n",
       "      <td>5.0</td>\n",
       "      <td>12.0</td>\n",
       "      <td>43.653529</td>\n",
       "      <td>51.913087</td>\n",
       "      <td>16.0</td>\n",
       "      <td>164800373deb0ad1d2bbfdb94f4e0c68</td>\n",
       "    </tr>\n",
       "    <tr>\n",
       "      <th>0</th>\n",
       "      <td>0.381463</td>\n",
       "      <td>0.337390</td>\n",
       "      <td>0.773213</td>\n",
       "      <td>0.446644</td>\n",
       "      <td>5.0</td>\n",
       "      <td>5.0</td>\n",
       "      <td>13.0</td>\n",
       "      <td>25.956544</td>\n",
       "      <td>30.867706</td>\n",
       "      <td>16.0</td>\n",
       "      <td>1807d611b652c7ed22b960540d3b1208</td>\n",
       "    </tr>\n",
       "    <tr>\n",
       "      <th>7</th>\n",
       "      <td>0.776254</td>\n",
       "      <td>0.270405</td>\n",
       "      <td>0.552245</td>\n",
       "      <td>0.480237</td>\n",
       "      <td>0.0</td>\n",
       "      <td>0.0</td>\n",
       "      <td>11.0</td>\n",
       "      <td>1244.507935</td>\n",
       "      <td>1975.533205</td>\n",
       "      <td>16.0</td>\n",
       "      <td>194e326892c603191a46c1e9b5d9faea</td>\n",
       "    </tr>\n",
       "    <tr>\n",
       "      <th>2</th>\n",
       "      <td>0.050123</td>\n",
       "      <td>0.281992</td>\n",
       "      <td>0.058949</td>\n",
       "      <td>0.837020</td>\n",
       "      <td>4.0</td>\n",
       "      <td>3.0</td>\n",
       "      <td>12.0</td>\n",
       "      <td>55.000000</td>\n",
       "      <td>97.998859</td>\n",
       "      <td>16.0</td>\n",
       "      <td>1aa932121587c599c9b45b143995bdbc</td>\n",
       "    </tr>\n",
       "    <tr>\n",
       "      <th>8</th>\n",
       "      <td>0.584941</td>\n",
       "      <td>0.838104</td>\n",
       "      <td>0.700391</td>\n",
       "      <td>0.206100</td>\n",
       "      <td>2.0</td>\n",
       "      <td>1.0</td>\n",
       "      <td>13.0</td>\n",
       "      <td>14.567618</td>\n",
       "      <td>138.591315</td>\n",
       "      <td>16.0</td>\n",
       "      <td>1f92aee8c888829a6980da6f213838a2</td>\n",
       "    </tr>\n",
       "    <tr>\n",
       "      <th>6</th>\n",
       "      <td>0.431908</td>\n",
       "      <td>0.522181</td>\n",
       "      <td>0.617156</td>\n",
       "      <td>0.474759</td>\n",
       "      <td>4.0</td>\n",
       "      <td>3.0</td>\n",
       "      <td>13.0</td>\n",
       "      <td>830.609395</td>\n",
       "      <td>4434.922096</td>\n",
       "      <td>16.0</td>\n",
       "      <td>23e420c533fecce8d39cbd32d2ed0eef</td>\n",
       "    </tr>\n",
       "    <tr>\n",
       "      <th>3</th>\n",
       "      <td>0.265873</td>\n",
       "      <td>0.499219</td>\n",
       "      <td>0.472424</td>\n",
       "      <td>0.698578</td>\n",
       "      <td>5.0</td>\n",
       "      <td>5.0</td>\n",
       "      <td>14.0</td>\n",
       "      <td>73.416192</td>\n",
       "      <td>783.990872</td>\n",
       "      <td>16.0</td>\n",
       "      <td>5647d587a3848107653ba97210749189</td>\n",
       "    </tr>\n",
       "    <tr>\n",
       "      <th>5</th>\n",
       "      <td>0.531921</td>\n",
       "      <td>0.697173</td>\n",
       "      <td>0.196447</td>\n",
       "      <td>0.670461</td>\n",
       "      <td>0.0</td>\n",
       "      <td>3.0</td>\n",
       "      <td>13.0</td>\n",
       "      <td>698.456463</td>\n",
       "      <td>1864.655046</td>\n",
       "      <td>16.0</td>\n",
       "      <td>7712a2c84fa6a0474ec1a6ec79c1effb</td>\n",
       "    </tr>\n",
       "    <tr>\n",
       "      <th>12</th>\n",
       "      <td>0.125951</td>\n",
       "      <td>0.142279</td>\n",
       "      <td>0.670690</td>\n",
       "      <td>0.823041</td>\n",
       "      <td>2.0</td>\n",
       "      <td>5.0</td>\n",
       "      <td>10.0</td>\n",
       "      <td>184.997211</td>\n",
       "      <td>369.994423</td>\n",
       "      <td>16.0</td>\n",
       "      <td>7dbc4c3eb03ad7b924577c4c9fa789ed</td>\n",
       "    </tr>\n",
       "    <tr>\n",
       "      <th>11</th>\n",
       "      <td>0.575554</td>\n",
       "      <td>0.485850</td>\n",
       "      <td>0.539237</td>\n",
       "      <td>0.712222</td>\n",
       "      <td>4.0</td>\n",
       "      <td>1.0</td>\n",
       "      <td>11.0</td>\n",
       "      <td>21.826764</td>\n",
       "      <td>58.270470</td>\n",
       "      <td>16.0</td>\n",
       "      <td>91fed4198e3f42277b23f0c115fac505</td>\n",
       "    </tr>\n",
       "    <tr>\n",
       "      <th>18</th>\n",
       "      <td>0.411067</td>\n",
       "      <td>0.962466</td>\n",
       "      <td>0.087907</td>\n",
       "      <td>0.708392</td>\n",
       "      <td>0.0</td>\n",
       "      <td>3.0</td>\n",
       "      <td>11.0</td>\n",
       "      <td>2093.004522</td>\n",
       "      <td>2959.955382</td>\n",
       "      <td>16.0</td>\n",
       "      <td>932e8686a54afc16ac78c6094bb0b456</td>\n",
       "    </tr>\n",
       "    <tr>\n",
       "      <th>15</th>\n",
       "      <td>0.619462</td>\n",
       "      <td>0.100370</td>\n",
       "      <td>0.889339</td>\n",
       "      <td>0.930125</td>\n",
       "      <td>0.0</td>\n",
       "      <td>3.0</td>\n",
       "      <td>14.0</td>\n",
       "      <td>415.304698</td>\n",
       "      <td>622.253967</td>\n",
       "      <td>16.0</td>\n",
       "      <td>9f3e97586114cdb9f21d74302d05763d</td>\n",
       "    </tr>\n",
       "    <tr>\n",
       "      <th>14</th>\n",
       "      <td>0.849473</td>\n",
       "      <td>0.881947</td>\n",
       "      <td>0.781403</td>\n",
       "      <td>0.937418</td>\n",
       "      <td>3.0</td>\n",
       "      <td>5.0</td>\n",
       "      <td>12.0</td>\n",
       "      <td>523.251131</td>\n",
       "      <td>659.255114</td>\n",
       "      <td>16.0</td>\n",
       "      <td>ab9619fb140244fa9c5ebae56bfadbdb</td>\n",
       "    </tr>\n",
       "    <tr>\n",
       "      <th>13</th>\n",
       "      <td>0.306299</td>\n",
       "      <td>0.814993</td>\n",
       "      <td>0.807425</td>\n",
       "      <td>0.427284</td>\n",
       "      <td>0.0</td>\n",
       "      <td>1.0</td>\n",
       "      <td>13.0</td>\n",
       "      <td>82.406889</td>\n",
       "      <td>164.813778</td>\n",
       "      <td>16.0</td>\n",
       "      <td>ce5578f60cb57caafc3b66f68ddec000</td>\n",
       "    </tr>\n",
       "    <tr>\n",
       "      <th>4</th>\n",
       "      <td>0.397122</td>\n",
       "      <td>0.101574</td>\n",
       "      <td>0.377121</td>\n",
       "      <td>0.084015</td>\n",
       "      <td>1.0</td>\n",
       "      <td>0.0</td>\n",
       "      <td>15.0</td>\n",
       "      <td>246.941651</td>\n",
       "      <td>1396.912926</td>\n",
       "      <td>16.0</td>\n",
       "      <td>ce9afe64b036aac1c5ee351a6e17a03a</td>\n",
       "    </tr>\n",
       "    <tr>\n",
       "      <th>16</th>\n",
       "      <td>0.153485</td>\n",
       "      <td>0.109522</td>\n",
       "      <td>0.148417</td>\n",
       "      <td>0.303177</td>\n",
       "      <td>5.0</td>\n",
       "      <td>3.0</td>\n",
       "      <td>14.0</td>\n",
       "      <td>116.540940</td>\n",
       "      <td>349.228231</td>\n",
       "      <td>16.0</td>\n",
       "      <td>d3ed351978f9da0ae0ab6001bf366de8</td>\n",
       "    </tr>\n",
       "    <tr>\n",
       "      <th>9</th>\n",
       "      <td>0.962524</td>\n",
       "      <td>0.528199</td>\n",
       "      <td>0.685752</td>\n",
       "      <td>0.013916</td>\n",
       "      <td>0.0</td>\n",
       "      <td>3.0</td>\n",
       "      <td>12.0</td>\n",
       "      <td>146.832384</td>\n",
       "      <td>329.627557</td>\n",
       "      <td>16.0</td>\n",
       "      <td>e123f943561e00ed40b4fa896e42f350</td>\n",
       "    </tr>\n",
       "    <tr>\n",
       "      <th>17</th>\n",
       "      <td>0.155471</td>\n",
       "      <td>0.107804</td>\n",
       "      <td>0.558315</td>\n",
       "      <td>0.745568</td>\n",
       "      <td>2.0</td>\n",
       "      <td>3.0</td>\n",
       "      <td>13.0</td>\n",
       "      <td>38.890873</td>\n",
       "      <td>97.998859</td>\n",
       "      <td>16.0</td>\n",
       "      <td>f57cba2ffa7049d403ba7d958bbcf9b9</td>\n",
       "    </tr>\n",
       "    <tr>\n",
       "      <th>19</th>\n",
       "      <td>0.176831</td>\n",
       "      <td>0.342760</td>\n",
       "      <td>0.171473</td>\n",
       "      <td>0.729278</td>\n",
       "      <td>2.0</td>\n",
       "      <td>3.0</td>\n",
       "      <td>12.0</td>\n",
       "      <td>12.978272</td>\n",
       "      <td>23.124651</td>\n",
       "      <td>16.0</td>\n",
       "      <td>f695b3972ff5bbc293793992406011da</td>\n",
       "    </tr>\n",
       "  </tbody>\n",
       "</table>\n",
       "</div>"
      ],
      "text/plain": [
       "     adparam  ampscale   ddparam  durscale  ampdist  durdist  knum  \\\n",
       "10  0.028068  0.995970  0.145464  0.363215      3.0      2.0  15.0   \n",
       "1   0.313963  0.105873  0.636145  0.472342      0.0      5.0  12.0   \n",
       "0   0.381463  0.337390  0.773213  0.446644      5.0      5.0  13.0   \n",
       "7   0.776254  0.270405  0.552245  0.480237      0.0      0.0  11.0   \n",
       "2   0.050123  0.281992  0.058949  0.837020      4.0      3.0  12.0   \n",
       "8   0.584941  0.838104  0.700391  0.206100      2.0      1.0  13.0   \n",
       "6   0.431908  0.522181  0.617156  0.474759      4.0      3.0  13.0   \n",
       "3   0.265873  0.499219  0.472424  0.698578      5.0      5.0  14.0   \n",
       "5   0.531921  0.697173  0.196447  0.670461      0.0      3.0  13.0   \n",
       "12  0.125951  0.142279  0.670690  0.823041      2.0      5.0  10.0   \n",
       "11  0.575554  0.485850  0.539237  0.712222      4.0      1.0  11.0   \n",
       "18  0.411067  0.962466  0.087907  0.708392      0.0      3.0  11.0   \n",
       "15  0.619462  0.100370  0.889339  0.930125      0.0      3.0  14.0   \n",
       "14  0.849473  0.881947  0.781403  0.937418      3.0      5.0  12.0   \n",
       "13  0.306299  0.814993  0.807425  0.427284      0.0      1.0  13.0   \n",
       "4   0.397122  0.101574  0.377121  0.084015      1.0      0.0  15.0   \n",
       "16  0.153485  0.109522  0.148417  0.303177      5.0      3.0  14.0   \n",
       "9   0.962524  0.528199  0.685752  0.013916      0.0      3.0  12.0   \n",
       "17  0.155471  0.107804  0.558315  0.745568      2.0      3.0  13.0   \n",
       "19  0.176831  0.342760  0.171473  0.729278      2.0      3.0  12.0   \n",
       "\n",
       "    minfrequency  maxfrequency  init_cps                              hash  \n",
       "10     87.307058    103.826174      16.0  162a624b021a40f353a22168ea26c573  \n",
       "1      43.653529     51.913087      16.0  164800373deb0ad1d2bbfdb94f4e0c68  \n",
       "0      25.956544     30.867706      16.0  1807d611b652c7ed22b960540d3b1208  \n",
       "7    1244.507935   1975.533205      16.0  194e326892c603191a46c1e9b5d9faea  \n",
       "2      55.000000     97.998859      16.0  1aa932121587c599c9b45b143995bdbc  \n",
       "8      14.567618    138.591315      16.0  1f92aee8c888829a6980da6f213838a2  \n",
       "6     830.609395   4434.922096      16.0  23e420c533fecce8d39cbd32d2ed0eef  \n",
       "3      73.416192    783.990872      16.0  5647d587a3848107653ba97210749189  \n",
       "5     698.456463   1864.655046      16.0  7712a2c84fa6a0474ec1a6ec79c1effb  \n",
       "12    184.997211    369.994423      16.0  7dbc4c3eb03ad7b924577c4c9fa789ed  \n",
       "11     21.826764     58.270470      16.0  91fed4198e3f42277b23f0c115fac505  \n",
       "18   2093.004522   2959.955382      16.0  932e8686a54afc16ac78c6094bb0b456  \n",
       "15    415.304698    622.253967      16.0  9f3e97586114cdb9f21d74302d05763d  \n",
       "14    523.251131    659.255114      16.0  ab9619fb140244fa9c5ebae56bfadbdb  \n",
       "13     82.406889    164.813778      16.0  ce5578f60cb57caafc3b66f68ddec000  \n",
       "4     246.941651   1396.912926      16.0  ce9afe64b036aac1c5ee351a6e17a03a  \n",
       "16    116.540940    349.228231      16.0  d3ed351978f9da0ae0ab6001bf366de8  \n",
       "9     146.832384    329.627557      16.0  e123f943561e00ed40b4fa896e42f350  \n",
       "17     38.890873     97.998859      16.0  f57cba2ffa7049d403ba7d958bbcf9b9  \n",
       "19     12.978272     23.124651      16.0  f695b3972ff5bbc293793992406011da  "
      ]
     },
     "execution_count": 186,
     "metadata": {},
     "output_type": "execute_result"
    }
   ],
   "source": [
    "df.sort_values([\"hash\"])"
   ]
  },
  {
   "cell_type": "code",
   "execution_count": 192,
   "metadata": {
    "collapsed": true
   },
   "outputs": [],
   "source": [
    "def cp_to_sc(r):\n",
    "    print(\"{}, {}, {}, {}, {}, {}, {}, {}, {}, {}\".format(r[\"ampdist\"],\n",
    "                                                          r[\"durdist\"],\n",
    "                                                          r[\"adparam\"],\n",
    "                                                          r[\"ddparam\"],\n",
    "                                                          r[\"minfrequency\"],\n",
    "                                                          r[\"maxfrequency\"],\n",
    "                                                          r[\"ampscale\"],\n",
    "                                                          r[\"durscale\"],\n",
    "                                                          r[\"init_cps\"],\n",
    "                                                          r[\"knum\"]))"
   ]
  },
  {
   "cell_type": "code",
   "execution_count": 193,
   "metadata": {
    "collapsed": false
   },
   "outputs": [
    {
     "name": "stdout",
     "output_type": "stream",
     "text": [
      "0.0, 5.0, 0.3139628495234624, 0.6361449935557908, 43.653528929125486, 51.91308719749314, 0.10587332198232761, 0.4723424139652405, 16.0, 12.0\n"
     ]
    }
   ],
   "source": [
    "cp_to_sc(df.iloc[1])"
   ]
  },
  {
   "cell_type": "code",
   "execution_count": 187,
   "metadata": {
    "collapsed": false
   },
   "outputs": [],
   "source": [
    "this_dir = os.getcwd()\n",
    "\n",
    "for i, row in df.iterrows():\n",
    "    \n",
    "    session = nonrealtimetools.Session()\n",
    "    \n",
    "    builder = make_builder(row)\n",
    "    \n",
    "    out = build_out(builder)\n",
    "    \n",
    "    synthdef = builder.build()\n",
    "    \n",
    "    with session.at(0):\n",
    "        synth_a = session.add_synth(duration=10, synthdef=synthdef)\n",
    "    \n",
    "    render_session(session, this_dir, row[\"hash\"])"
   ]
  },
  {
   "cell_type": "code",
   "execution_count": null,
   "metadata": {
    "collapsed": true
   },
   "outputs": [],
   "source": []
  }
 ],
 "metadata": {
  "kernelspec": {
   "display_name": "Python 3",
   "language": "python",
   "name": "python3"
  },
  "language_info": {
   "codemirror_mode": {
    "name": "ipython",
    "version": 3
   },
   "file_extension": ".py",
   "mimetype": "text/x-python",
   "name": "python",
   "nbconvert_exporter": "python",
   "pygments_lexer": "ipython3",
   "version": "3.5.2"
  }
 },
 "nbformat": 4,
 "nbformat_minor": 1
}
